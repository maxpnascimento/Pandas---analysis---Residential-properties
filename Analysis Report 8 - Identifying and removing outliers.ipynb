{
 "cells": [
  {
   "cell_type": "markdown",
   "id": "85e490de",
   "metadata": {},
   "source": [
    "# Analysis Report VIII\n",
    "\n",
    "\n",
    "\n",
    "## Identifying and removing outliers"
   ]
  },
  {
   "cell_type": "code",
   "execution_count": 1,
   "id": "2bcd9cc6",
   "metadata": {},
   "outputs": [],
   "source": [
    "%matplotlib inline \n",
    "import pandas as pd\n",
    "import matplotlib.pyplot as plt\n",
    "\n",
    "plt.rc('figure', figsize =(14,6))"
   ]
  },
  {
   "cell_type": "code",
   "execution_count": 6,
   "id": "9ae3b928",
   "metadata": {},
   "outputs": [
    {
     "data": {
      "text/html": [
       "<div>\n",
       "<style scoped>\n",
       "    .dataframe tbody tr th:only-of-type {\n",
       "        vertical-align: middle;\n",
       "    }\n",
       "\n",
       "    .dataframe tbody tr th {\n",
       "        vertical-align: top;\n",
       "    }\n",
       "\n",
       "    .dataframe thead th {\n",
       "        text-align: right;\n",
       "    }\n",
       "</style>\n",
       "<table border=\"1\" class=\"dataframe\">\n",
       "  <thead>\n",
       "    <tr style=\"text-align: right;\">\n",
       "      <th></th>\n",
       "      <th>Tipo</th>\n",
       "      <th>Bairro</th>\n",
       "      <th>Quartos</th>\n",
       "      <th>Vagas</th>\n",
       "      <th>Suites</th>\n",
       "      <th>Area</th>\n",
       "      <th>Valor</th>\n",
       "      <th>Condominio</th>\n",
       "      <th>IPTU</th>\n",
       "      <th>Valor m2</th>\n",
       "      <th>Tipo Agregado</th>\n",
       "    </tr>\n",
       "  </thead>\n",
       "  <tbody>\n",
       "    <tr>\n",
       "      <th>0</th>\n",
       "      <td>Quitinete</td>\n",
       "      <td>Copacabana</td>\n",
       "      <td>1</td>\n",
       "      <td>0</td>\n",
       "      <td>0</td>\n",
       "      <td>40</td>\n",
       "      <td>1700.0</td>\n",
       "      <td>500.0</td>\n",
       "      <td>60.0</td>\n",
       "      <td>42.50</td>\n",
       "      <td>Apartamento</td>\n",
       "    </tr>\n",
       "    <tr>\n",
       "      <th>1</th>\n",
       "      <td>Casa</td>\n",
       "      <td>Jardim Botânico</td>\n",
       "      <td>2</td>\n",
       "      <td>0</td>\n",
       "      <td>1</td>\n",
       "      <td>100</td>\n",
       "      <td>7000.0</td>\n",
       "      <td>0.0</td>\n",
       "      <td>0.0</td>\n",
       "      <td>70.00</td>\n",
       "      <td>Casa</td>\n",
       "    </tr>\n",
       "    <tr>\n",
       "      <th>2</th>\n",
       "      <td>Apartamento</td>\n",
       "      <td>Centro</td>\n",
       "      <td>1</td>\n",
       "      <td>0</td>\n",
       "      <td>0</td>\n",
       "      <td>15</td>\n",
       "      <td>800.0</td>\n",
       "      <td>390.0</td>\n",
       "      <td>20.0</td>\n",
       "      <td>53.33</td>\n",
       "      <td>Apartamento</td>\n",
       "    </tr>\n",
       "    <tr>\n",
       "      <th>3</th>\n",
       "      <td>Apartamento</td>\n",
       "      <td>Higienópolis</td>\n",
       "      <td>1</td>\n",
       "      <td>0</td>\n",
       "      <td>0</td>\n",
       "      <td>48</td>\n",
       "      <td>800.0</td>\n",
       "      <td>230.0</td>\n",
       "      <td>0.0</td>\n",
       "      <td>16.67</td>\n",
       "      <td>Apartamento</td>\n",
       "    </tr>\n",
       "    <tr>\n",
       "      <th>4</th>\n",
       "      <td>Apartamento</td>\n",
       "      <td>Cachambi</td>\n",
       "      <td>2</td>\n",
       "      <td>0</td>\n",
       "      <td>0</td>\n",
       "      <td>50</td>\n",
       "      <td>1300.0</td>\n",
       "      <td>301.0</td>\n",
       "      <td>17.0</td>\n",
       "      <td>26.00</td>\n",
       "      <td>Apartamento</td>\n",
       "    </tr>\n",
       "    <tr>\n",
       "      <th>5</th>\n",
       "      <td>Casa de Condomínio</td>\n",
       "      <td>Barra da Tijuca</td>\n",
       "      <td>5</td>\n",
       "      <td>4</td>\n",
       "      <td>5</td>\n",
       "      <td>750</td>\n",
       "      <td>22000.0</td>\n",
       "      <td>0.0</td>\n",
       "      <td>0.0</td>\n",
       "      <td>29.33</td>\n",
       "      <td>Casa</td>\n",
       "    </tr>\n",
       "    <tr>\n",
       "      <th>6</th>\n",
       "      <td>Casa de Condomínio</td>\n",
       "      <td>Ramos</td>\n",
       "      <td>2</td>\n",
       "      <td>2</td>\n",
       "      <td>0</td>\n",
       "      <td>65</td>\n",
       "      <td>1000.0</td>\n",
       "      <td>0.0</td>\n",
       "      <td>0.0</td>\n",
       "      <td>15.38</td>\n",
       "      <td>Casa</td>\n",
       "    </tr>\n",
       "    <tr>\n",
       "      <th>7</th>\n",
       "      <td>Apartamento</td>\n",
       "      <td>Grajaú</td>\n",
       "      <td>2</td>\n",
       "      <td>1</td>\n",
       "      <td>0</td>\n",
       "      <td>70</td>\n",
       "      <td>1500.0</td>\n",
       "      <td>642.0</td>\n",
       "      <td>74.0</td>\n",
       "      <td>21.43</td>\n",
       "      <td>Apartamento</td>\n",
       "    </tr>\n",
       "    <tr>\n",
       "      <th>8</th>\n",
       "      <td>Apartamento</td>\n",
       "      <td>Lins de Vasconcelos</td>\n",
       "      <td>3</td>\n",
       "      <td>1</td>\n",
       "      <td>1</td>\n",
       "      <td>90</td>\n",
       "      <td>1500.0</td>\n",
       "      <td>455.0</td>\n",
       "      <td>14.0</td>\n",
       "      <td>16.67</td>\n",
       "      <td>Apartamento</td>\n",
       "    </tr>\n",
       "    <tr>\n",
       "      <th>9</th>\n",
       "      <td>Apartamento</td>\n",
       "      <td>Copacabana</td>\n",
       "      <td>1</td>\n",
       "      <td>0</td>\n",
       "      <td>1</td>\n",
       "      <td>40</td>\n",
       "      <td>2000.0</td>\n",
       "      <td>561.0</td>\n",
       "      <td>50.0</td>\n",
       "      <td>50.00</td>\n",
       "      <td>Apartamento</td>\n",
       "    </tr>\n",
       "  </tbody>\n",
       "</table>\n",
       "</div>"
      ],
      "text/plain": [
       "                 Tipo               Bairro  Quartos  Vagas  Suites  Area  \\\n",
       "0           Quitinete           Copacabana        1      0       0    40   \n",
       "1                Casa      Jardim Botânico        2      0       1   100   \n",
       "2         Apartamento               Centro        1      0       0    15   \n",
       "3         Apartamento         Higienópolis        1      0       0    48   \n",
       "4         Apartamento             Cachambi        2      0       0    50   \n",
       "5  Casa de Condomínio      Barra da Tijuca        5      4       5   750   \n",
       "6  Casa de Condomínio                Ramos        2      2       0    65   \n",
       "7         Apartamento               Grajaú        2      1       0    70   \n",
       "8         Apartamento  Lins de Vasconcelos        3      1       1    90   \n",
       "9         Apartamento           Copacabana        1      0       1    40   \n",
       "\n",
       "     Valor  Condominio  IPTU  Valor m2 Tipo Agregado  \n",
       "0   1700.0       500.0  60.0     42.50   Apartamento  \n",
       "1   7000.0         0.0   0.0     70.00          Casa  \n",
       "2    800.0       390.0  20.0     53.33   Apartamento  \n",
       "3    800.0       230.0   0.0     16.67   Apartamento  \n",
       "4   1300.0       301.0  17.0     26.00   Apartamento  \n",
       "5  22000.0         0.0   0.0     29.33          Casa  \n",
       "6   1000.0         0.0   0.0     15.38          Casa  \n",
       "7   1500.0       642.0  74.0     21.43   Apartamento  \n",
       "8   1500.0       455.0  14.0     16.67   Apartamento  \n",
       "9   2000.0       561.0  50.0     50.00   Apartamento  "
      ]
     },
     "execution_count": 6,
     "metadata": {},
     "output_type": "execute_result"
    }
   ],
   "source": [
    "data = pd.read_csv(\"dataset/aluguel_residencial.csv\", sep = \";\")\n",
    "\n",
    "data.head(10)"
   ]
  },
  {
   "cell_type": "code",
   "execution_count": 7,
   "id": "beea74e7",
   "metadata": {},
   "outputs": [
    {
     "data": {
      "text/plain": [
       "<AxesSubplot:>"
      ]
     },
     "execution_count": 7,
     "metadata": {},
     "output_type": "execute_result"
    },
    {
     "data": {
      "image/png": "[encoded data removed]",
      "text/plain": [
       "<Figure size 1008x432 with 1 Axes>"
      ]
     },
     "metadata": {
      "needs_background": "light"
     },
     "output_type": "display_data"
    }
   ],
   "source": [
    "data.boxplot(['Valor'])   #Visualiza o boxplot da variável"
   ]
  },
  {
   "cell_type": "code",
   "execution_count": 9,
   "id": "fe1b86f2",
   "metadata": {},
   "outputs": [
    {
     "data": {
      "text/html": [
       "<div>\n",
       "<style scoped>\n",
       "    .dataframe tbody tr th:only-of-type {\n",
       "        vertical-align: middle;\n",
       "    }\n",
       "\n",
       "    .dataframe tbody tr th {\n",
       "        vertical-align: top;\n",
       "    }\n",
       "\n",
       "    .dataframe thead th {\n",
       "        text-align: right;\n",
       "    }\n",
       "</style>\n",
       "<table border=\"1\" class=\"dataframe\">\n",
       "  <thead>\n",
       "    <tr style=\"text-align: right;\">\n",
       "      <th></th>\n",
       "      <th>Tipo</th>\n",
       "      <th>Bairro</th>\n",
       "      <th>Quartos</th>\n",
       "      <th>Vagas</th>\n",
       "      <th>Suites</th>\n",
       "      <th>Area</th>\n",
       "      <th>Valor</th>\n",
       "      <th>Condominio</th>\n",
       "      <th>IPTU</th>\n",
       "      <th>Valor m2</th>\n",
       "      <th>Tipo Agregado</th>\n",
       "    </tr>\n",
       "  </thead>\n",
       "  <tbody>\n",
       "    <tr>\n",
       "      <th>7629</th>\n",
       "      <td>Apartamento</td>\n",
       "      <td>Barra da Tijuca</td>\n",
       "      <td>1</td>\n",
       "      <td>1</td>\n",
       "      <td>0</td>\n",
       "      <td>65</td>\n",
       "      <td>600000.0</td>\n",
       "      <td>980.0</td>\n",
       "      <td>120.0</td>\n",
       "      <td>9230.77</td>\n",
       "      <td>Apartamento</td>\n",
       "    </tr>\n",
       "    <tr>\n",
       "      <th>10636</th>\n",
       "      <td>Casa de Condomínio</td>\n",
       "      <td>Freguesia (Jacarepaguá)</td>\n",
       "      <td>4</td>\n",
       "      <td>2</td>\n",
       "      <td>3</td>\n",
       "      <td>163</td>\n",
       "      <td>800000.0</td>\n",
       "      <td>900.0</td>\n",
       "      <td>0.0</td>\n",
       "      <td>4907.98</td>\n",
       "      <td>Casa</td>\n",
       "    </tr>\n",
       "    <tr>\n",
       "      <th>12661</th>\n",
       "      <td>Apartamento</td>\n",
       "      <td>Freguesia (Jacarepaguá)</td>\n",
       "      <td>2</td>\n",
       "      <td>2</td>\n",
       "      <td>1</td>\n",
       "      <td>150</td>\n",
       "      <td>550000.0</td>\n",
       "      <td>850.0</td>\n",
       "      <td>150.0</td>\n",
       "      <td>3666.67</td>\n",
       "      <td>Apartamento</td>\n",
       "    </tr>\n",
       "    <tr>\n",
       "      <th>13846</th>\n",
       "      <td>Apartamento</td>\n",
       "      <td>Recreio dos Bandeirantes</td>\n",
       "      <td>3</td>\n",
       "      <td>2</td>\n",
       "      <td>1</td>\n",
       "      <td>167</td>\n",
       "      <td>1250000.0</td>\n",
       "      <td>1186.0</td>\n",
       "      <td>320.0</td>\n",
       "      <td>7485.03</td>\n",
       "      <td>Apartamento</td>\n",
       "    </tr>\n",
       "    <tr>\n",
       "      <th>15520</th>\n",
       "      <td>Apartamento</td>\n",
       "      <td>Botafogo</td>\n",
       "      <td>4</td>\n",
       "      <td>1</td>\n",
       "      <td>1</td>\n",
       "      <td>300</td>\n",
       "      <td>4500000.0</td>\n",
       "      <td>1100.0</td>\n",
       "      <td>0.0</td>\n",
       "      <td>15000.00</td>\n",
       "      <td>Apartamento</td>\n",
       "    </tr>\n",
       "  </tbody>\n",
       "</table>\n",
       "</div>"
      ],
      "text/plain": [
       "                     Tipo                    Bairro  Quartos  Vagas  Suites  \\\n",
       "7629          Apartamento           Barra da Tijuca        1      1       0   \n",
       "10636  Casa de Condomínio   Freguesia (Jacarepaguá)        4      2       3   \n",
       "12661         Apartamento   Freguesia (Jacarepaguá)        2      2       1   \n",
       "13846         Apartamento  Recreio dos Bandeirantes        3      2       1   \n",
       "15520         Apartamento                  Botafogo        4      1       1   \n",
       "\n",
       "       Area      Valor  Condominio   IPTU  Valor m2 Tipo Agregado  \n",
       "7629     65   600000.0       980.0  120.0   9230.77   Apartamento  \n",
       "10636   163   800000.0       900.0    0.0   4907.98          Casa  \n",
       "12661   150   550000.0       850.0  150.0   3666.67   Apartamento  \n",
       "13846   167  1250000.0      1186.0  320.0   7485.03   Apartamento  \n",
       "15520   300  4500000.0      1100.0    0.0  15000.00   Apartamento  "
      ]
     },
     "execution_count": 9,
     "metadata": {},
     "output_type": "execute_result"
    }
   ],
   "source": [
    "data[data['Valor'] >= 500000]"
   ]
  },
  {
   "cell_type": "code",
   "execution_count": 16,
   "id": "045128b9",
   "metadata": {},
   "outputs": [
    {
     "data": {
      "text/plain": [
       "0        1700.0\n",
       "1        7000.0\n",
       "2         800.0\n",
       "3         800.0\n",
       "4        1300.0\n",
       "          ...  \n",
       "21821     900.0\n",
       "21822     800.0\n",
       "21823    1800.0\n",
       "21824    1400.0\n",
       "21825    3000.0\n",
       "Name: Valor, Length: 21826, dtype: float64"
      ]
     },
     "execution_count": 16,
     "metadata": {},
     "output_type": "execute_result"
    }
   ],
   "source": [
    "valor = data['Valor']      #Series com a variável Valor\n",
    "\n",
    "valor"
   ]
  },
  {
   "attachments": {
    "image.png": {
     "image/png": "[encoded data removed]"
    }
   },
   "cell_type": "markdown",
   "id": "5556ee35",
   "metadata": {},
   "source": [
    "### Técnica para outliers => Box plot\n",
    "\n",
    "![image.png](attachment:image.png)"
   ]
  },
  {
   "cell_type": "code",
   "execution_count": 22,
   "id": "43f5d89c",
   "metadata": {},
   "outputs": [
    {
     "name": "stdout",
     "output_type": "stream",
     "text": [
      "-4250.0 11350.0\n"
     ]
    }
   ],
   "source": [
    "#Quantilies e limites\n",
    "Q1 = valor.quantile(.25)\n",
    "Q3 = valor.quantile(.75)\n",
    "IIQ = Q3 - Q1\n",
    "limite_inferior = Q1 - (1.5*IIQ)\n",
    "limite_superior = Q3 + (1.5*IIQ)\n",
    "print(limite_inferior, limite_superior )"
   ]
  },
  {
   "cell_type": "code",
   "execution_count": 23,
   "id": "b926db82",
   "metadata": {},
   "outputs": [
    {
     "data": {
      "text/html": [
       "<div>\n",
       "<style scoped>\n",
       "    .dataframe tbody tr th:only-of-type {\n",
       "        vertical-align: middle;\n",
       "    }\n",
       "\n",
       "    .dataframe tbody tr th {\n",
       "        vertical-align: top;\n",
       "    }\n",
       "\n",
       "    .dataframe thead th {\n",
       "        text-align: right;\n",
       "    }\n",
       "</style>\n",
       "<table border=\"1\" class=\"dataframe\">\n",
       "  <thead>\n",
       "    <tr style=\"text-align: right;\">\n",
       "      <th></th>\n",
       "      <th>Tipo</th>\n",
       "      <th>Bairro</th>\n",
       "      <th>Quartos</th>\n",
       "      <th>Vagas</th>\n",
       "      <th>Suites</th>\n",
       "      <th>Area</th>\n",
       "      <th>Valor</th>\n",
       "      <th>Condominio</th>\n",
       "      <th>IPTU</th>\n",
       "      <th>Valor m2</th>\n",
       "      <th>Tipo Agregado</th>\n",
       "    </tr>\n",
       "  </thead>\n",
       "  <tbody>\n",
       "    <tr>\n",
       "      <th>0</th>\n",
       "      <td>Quitinete</td>\n",
       "      <td>Copacabana</td>\n",
       "      <td>1</td>\n",
       "      <td>0</td>\n",
       "      <td>0</td>\n",
       "      <td>40</td>\n",
       "      <td>1700.0</td>\n",
       "      <td>500.0</td>\n",
       "      <td>60.0</td>\n",
       "      <td>42.50</td>\n",
       "      <td>Apartamento</td>\n",
       "    </tr>\n",
       "    <tr>\n",
       "      <th>1</th>\n",
       "      <td>Casa</td>\n",
       "      <td>Jardim Botânico</td>\n",
       "      <td>2</td>\n",
       "      <td>0</td>\n",
       "      <td>1</td>\n",
       "      <td>100</td>\n",
       "      <td>7000.0</td>\n",
       "      <td>0.0</td>\n",
       "      <td>0.0</td>\n",
       "      <td>70.00</td>\n",
       "      <td>Casa</td>\n",
       "    </tr>\n",
       "    <tr>\n",
       "      <th>2</th>\n",
       "      <td>Apartamento</td>\n",
       "      <td>Centro</td>\n",
       "      <td>1</td>\n",
       "      <td>0</td>\n",
       "      <td>0</td>\n",
       "      <td>15</td>\n",
       "      <td>800.0</td>\n",
       "      <td>390.0</td>\n",
       "      <td>20.0</td>\n",
       "      <td>53.33</td>\n",
       "      <td>Apartamento</td>\n",
       "    </tr>\n",
       "    <tr>\n",
       "      <th>3</th>\n",
       "      <td>Apartamento</td>\n",
       "      <td>Higienópolis</td>\n",
       "      <td>1</td>\n",
       "      <td>0</td>\n",
       "      <td>0</td>\n",
       "      <td>48</td>\n",
       "      <td>800.0</td>\n",
       "      <td>230.0</td>\n",
       "      <td>0.0</td>\n",
       "      <td>16.67</td>\n",
       "      <td>Apartamento</td>\n",
       "    </tr>\n",
       "    <tr>\n",
       "      <th>4</th>\n",
       "      <td>Apartamento</td>\n",
       "      <td>Cachambi</td>\n",
       "      <td>2</td>\n",
       "      <td>0</td>\n",
       "      <td>0</td>\n",
       "      <td>50</td>\n",
       "      <td>1300.0</td>\n",
       "      <td>301.0</td>\n",
       "      <td>17.0</td>\n",
       "      <td>26.00</td>\n",
       "      <td>Apartamento</td>\n",
       "    </tr>\n",
       "    <tr>\n",
       "      <th>...</th>\n",
       "      <td>...</td>\n",
       "      <td>...</td>\n",
       "      <td>...</td>\n",
       "      <td>...</td>\n",
       "      <td>...</td>\n",
       "      <td>...</td>\n",
       "      <td>...</td>\n",
       "      <td>...</td>\n",
       "      <td>...</td>\n",
       "      <td>...</td>\n",
       "      <td>...</td>\n",
       "    </tr>\n",
       "    <tr>\n",
       "      <th>21821</th>\n",
       "      <td>Apartamento</td>\n",
       "      <td>Méier</td>\n",
       "      <td>2</td>\n",
       "      <td>0</td>\n",
       "      <td>0</td>\n",
       "      <td>70</td>\n",
       "      <td>900.0</td>\n",
       "      <td>490.0</td>\n",
       "      <td>48.0</td>\n",
       "      <td>12.86</td>\n",
       "      <td>Apartamento</td>\n",
       "    </tr>\n",
       "    <tr>\n",
       "      <th>21822</th>\n",
       "      <td>Quitinete</td>\n",
       "      <td>Centro</td>\n",
       "      <td>0</td>\n",
       "      <td>0</td>\n",
       "      <td>0</td>\n",
       "      <td>27</td>\n",
       "      <td>800.0</td>\n",
       "      <td>350.0</td>\n",
       "      <td>25.0</td>\n",
       "      <td>29.63</td>\n",
       "      <td>Apartamento</td>\n",
       "    </tr>\n",
       "    <tr>\n",
       "      <th>21823</th>\n",
       "      <td>Apartamento</td>\n",
       "      <td>Jacarepaguá</td>\n",
       "      <td>3</td>\n",
       "      <td>1</td>\n",
       "      <td>2</td>\n",
       "      <td>78</td>\n",
       "      <td>1800.0</td>\n",
       "      <td>800.0</td>\n",
       "      <td>40.0</td>\n",
       "      <td>23.08</td>\n",
       "      <td>Apartamento</td>\n",
       "    </tr>\n",
       "    <tr>\n",
       "      <th>21824</th>\n",
       "      <td>Apartamento</td>\n",
       "      <td>São Francisco Xavier</td>\n",
       "      <td>2</td>\n",
       "      <td>1</td>\n",
       "      <td>0</td>\n",
       "      <td>48</td>\n",
       "      <td>1400.0</td>\n",
       "      <td>509.0</td>\n",
       "      <td>37.0</td>\n",
       "      <td>29.17</td>\n",
       "      <td>Apartamento</td>\n",
       "    </tr>\n",
       "    <tr>\n",
       "      <th>21825</th>\n",
       "      <td>Apartamento</td>\n",
       "      <td>Leblon</td>\n",
       "      <td>2</td>\n",
       "      <td>0</td>\n",
       "      <td>0</td>\n",
       "      <td>70</td>\n",
       "      <td>3000.0</td>\n",
       "      <td>760.0</td>\n",
       "      <td>0.0</td>\n",
       "      <td>42.86</td>\n",
       "      <td>Apartamento</td>\n",
       "    </tr>\n",
       "  </tbody>\n",
       "</table>\n",
       "<p>21826 rows × 11 columns</p>\n",
       "</div>"
      ],
      "text/plain": [
       "              Tipo                Bairro  Quartos  Vagas  Suites  Area  \\\n",
       "0        Quitinete            Copacabana        1      0       0    40   \n",
       "1             Casa       Jardim Botânico        2      0       1   100   \n",
       "2      Apartamento                Centro        1      0       0    15   \n",
       "3      Apartamento          Higienópolis        1      0       0    48   \n",
       "4      Apartamento              Cachambi        2      0       0    50   \n",
       "...            ...                   ...      ...    ...     ...   ...   \n",
       "21821  Apartamento                 Méier        2      0       0    70   \n",
       "21822    Quitinete                Centro        0      0       0    27   \n",
       "21823  Apartamento           Jacarepaguá        3      1       2    78   \n",
       "21824  Apartamento  São Francisco Xavier        2      1       0    48   \n",
       "21825  Apartamento                Leblon        2      0       0    70   \n",
       "\n",
       "        Valor  Condominio  IPTU  Valor m2 Tipo Agregado  \n",
       "0      1700.0       500.0  60.0     42.50   Apartamento  \n",
       "1      7000.0         0.0   0.0     70.00          Casa  \n",
       "2       800.0       390.0  20.0     53.33   Apartamento  \n",
       "3       800.0       230.0   0.0     16.67   Apartamento  \n",
       "4      1300.0       301.0  17.0     26.00   Apartamento  \n",
       "...       ...         ...   ...       ...           ...  \n",
       "21821   900.0       490.0  48.0     12.86   Apartamento  \n",
       "21822   800.0       350.0  25.0     29.63   Apartamento  \n",
       "21823  1800.0       800.0  40.0     23.08   Apartamento  \n",
       "21824  1400.0       509.0  37.0     29.17   Apartamento  \n",
       "21825  3000.0       760.0   0.0     42.86   Apartamento  \n",
       "\n",
       "[21826 rows x 11 columns]"
      ]
     },
     "execution_count": 23,
     "metadata": {},
     "output_type": "execute_result"
    }
   ],
   "source": [
    "selecao = (valor >= limite_inferior) & (valor <= limite_superior)\n",
    "\n",
    "data_new = data[selecao]\n",
    "data"
   ]
  },
  {
   "cell_type": "code",
   "execution_count": 24,
   "id": "f2714882",
   "metadata": {},
   "outputs": [
    {
     "data": {
      "text/plain": [
       "<AxesSubplot:>"
      ]
     },
     "execution_count": 24,
     "metadata": {},
     "output_type": "execute_result"
    },
    {
     "data": {
      "image/png": "[encoded data removed]",
      "text/plain": [
       "<Figure size 1008x432 with 1 Axes>"
      ]
     },
     "metadata": {
      "needs_background": "light"
     },
     "output_type": "display_data"
    }
   ],
   "source": [
    "data_new.boxplot(['Valor'])"
   ]
  },
  {
   "cell_type": "code",
   "execution_count": 25,
   "id": "fc7ececa",
   "metadata": {},
   "outputs": [
    {
     "data": {
      "text/plain": [
       "array([[<AxesSubplot:title={'center':'Valor'}>]], dtype=object)"
      ]
     },
     "execution_count": 25,
     "metadata": {},
     "output_type": "execute_result"
    },
    {
     "data": {
      "image/png": "[encoded data removed]",
      "text/plain": [
       "<Figure size 1008x432 with 1 Axes>"
      ]
     },
     "metadata": {
      "needs_background": "light"
     },
     "output_type": "display_data"
    }
   ],
   "source": [
    "data.hist(['Valor'])"
   ]
  },
  {
   "cell_type": "code",
   "execution_count": 26,
   "id": "549e61ab",
   "metadata": {},
   "outputs": [
    {
     "data": {
      "text/plain": [
       "array([[<AxesSubplot:title={'center':'Valor'}>]], dtype=object)"
      ]
     },
     "execution_count": 26,
     "metadata": {},
     "output_type": "execute_result"
    },
    {
     "data": {
      "image/png": "[encoded data removed]",
      "text/plain": [
       "<Figure size 1008x432 with 1 Axes>"
      ]
     },
     "metadata": {
      "needs_background": "light"
     },
     "output_type": "display_data"
    }
   ],
   "source": [
    "data_new.hist(['Valor'])"
   ]
  },
  {
   "cell_type": "markdown",
   "id": "031d3113",
   "metadata": {},
   "source": [
    "### Exercício"
   ]
  },
  {
   "cell_type": "code",
   "execution_count": 27,
   "id": "6870458e",
   "metadata": {},
   "outputs": [
    {
     "data": {
      "text/html": [
       "<div>\n",
       "<style scoped>\n",
       "    .dataframe tbody tr th:only-of-type {\n",
       "        vertical-align: middle;\n",
       "    }\n",
       "\n",
       "    .dataframe tbody tr th {\n",
       "        vertical-align: top;\n",
       "    }\n",
       "\n",
       "    .dataframe thead th {\n",
       "        text-align: right;\n",
       "    }\n",
       "</style>\n",
       "<table border=\"1\" class=\"dataframe\">\n",
       "  <thead>\n",
       "    <tr style=\"text-align: right;\">\n",
       "      <th></th>\n",
       "      <th>Tipo</th>\n",
       "      <th>Bairro</th>\n",
       "      <th>Quartos</th>\n",
       "      <th>Vagas</th>\n",
       "      <th>Suites</th>\n",
       "      <th>Area</th>\n",
       "      <th>Valor</th>\n",
       "      <th>Condominio</th>\n",
       "      <th>IPTU</th>\n",
       "      <th>Valor m2</th>\n",
       "      <th>Tipo Agregado</th>\n",
       "    </tr>\n",
       "  </thead>\n",
       "  <tbody>\n",
       "    <tr>\n",
       "      <th>0</th>\n",
       "      <td>Apartamento</td>\n",
       "      <td>Recreio dos Bandeirantes</td>\n",
       "      <td>3</td>\n",
       "      <td>2</td>\n",
       "      <td>1</td>\n",
       "      <td>320</td>\n",
       "      <td>3200.0</td>\n",
       "      <td>1319.0</td>\n",
       "      <td>0.0</td>\n",
       "      <td>10.00</td>\n",
       "      <td>Apartamento</td>\n",
       "    </tr>\n",
       "    <tr>\n",
       "      <th>1</th>\n",
       "      <td>Apartamento</td>\n",
       "      <td>Maracanã</td>\n",
       "      <td>2</td>\n",
       "      <td>0</td>\n",
       "      <td>0</td>\n",
       "      <td>59</td>\n",
       "      <td>800.0</td>\n",
       "      <td>725.0</td>\n",
       "      <td>47.0</td>\n",
       "      <td>13.56</td>\n",
       "      <td>Apartamento</td>\n",
       "    </tr>\n",
       "    <tr>\n",
       "      <th>2</th>\n",
       "      <td>Apartamento</td>\n",
       "      <td>Leblon</td>\n",
       "      <td>3</td>\n",
       "      <td>2</td>\n",
       "      <td>1</td>\n",
       "      <td>147</td>\n",
       "      <td>7500.0</td>\n",
       "      <td>1000.0</td>\n",
       "      <td>381.0</td>\n",
       "      <td>51.02</td>\n",
       "      <td>Apartamento</td>\n",
       "    </tr>\n",
       "    <tr>\n",
       "      <th>3</th>\n",
       "      <td>Apartamento</td>\n",
       "      <td>São Conrado</td>\n",
       "      <td>3</td>\n",
       "      <td>3</td>\n",
       "      <td>3</td>\n",
       "      <td>270</td>\n",
       "      <td>14999.0</td>\n",
       "      <td>2800.0</td>\n",
       "      <td>1200.0</td>\n",
       "      <td>55.55</td>\n",
       "      <td>Apartamento</td>\n",
       "    </tr>\n",
       "    <tr>\n",
       "      <th>4</th>\n",
       "      <td>Apartamento</td>\n",
       "      <td>Tijuca</td>\n",
       "      <td>2</td>\n",
       "      <td>1</td>\n",
       "      <td>0</td>\n",
       "      <td>65</td>\n",
       "      <td>1200.0</td>\n",
       "      <td>640.0</td>\n",
       "      <td>97.0</td>\n",
       "      <td>18.46</td>\n",
       "      <td>Apartamento</td>\n",
       "    </tr>\n",
       "    <tr>\n",
       "      <th>...</th>\n",
       "      <td>...</td>\n",
       "      <td>...</td>\n",
       "      <td>...</td>\n",
       "      <td>...</td>\n",
       "      <td>...</td>\n",
       "      <td>...</td>\n",
       "      <td>...</td>\n",
       "      <td>...</td>\n",
       "      <td>...</td>\n",
       "      <td>...</td>\n",
       "      <td>...</td>\n",
       "    </tr>\n",
       "    <tr>\n",
       "      <th>9995</th>\n",
       "      <td>Apartamento</td>\n",
       "      <td>Copacabana</td>\n",
       "      <td>3</td>\n",
       "      <td>1</td>\n",
       "      <td>2</td>\n",
       "      <td>160</td>\n",
       "      <td>15500.0</td>\n",
       "      <td>1600.0</td>\n",
       "      <td>435.0</td>\n",
       "      <td>96.88</td>\n",
       "      <td>Apartamento</td>\n",
       "    </tr>\n",
       "    <tr>\n",
       "      <th>9996</th>\n",
       "      <td>Apartamento</td>\n",
       "      <td>Copacabana</td>\n",
       "      <td>4</td>\n",
       "      <td>0</td>\n",
       "      <td>0</td>\n",
       "      <td>190</td>\n",
       "      <td>6000.0</td>\n",
       "      <td>1000.0</td>\n",
       "      <td>0.0</td>\n",
       "      <td>31.58</td>\n",
       "      <td>Apartamento</td>\n",
       "    </tr>\n",
       "    <tr>\n",
       "      <th>9997</th>\n",
       "      <td>Apartamento</td>\n",
       "      <td>Barra da Tijuca</td>\n",
       "      <td>2</td>\n",
       "      <td>1</td>\n",
       "      <td>1</td>\n",
       "      <td>70</td>\n",
       "      <td>2800.0</td>\n",
       "      <td>750.0</td>\n",
       "      <td>160.0</td>\n",
       "      <td>40.00</td>\n",
       "      <td>Apartamento</td>\n",
       "    </tr>\n",
       "    <tr>\n",
       "      <th>9998</th>\n",
       "      <td>Apartamento</td>\n",
       "      <td>Tijuca</td>\n",
       "      <td>1</td>\n",
       "      <td>0</td>\n",
       "      <td>0</td>\n",
       "      <td>50</td>\n",
       "      <td>1700.0</td>\n",
       "      <td>360.0</td>\n",
       "      <td>20.0</td>\n",
       "      <td>34.00</td>\n",
       "      <td>Apartamento</td>\n",
       "    </tr>\n",
       "    <tr>\n",
       "      <th>9999</th>\n",
       "      <td>Apartamento</td>\n",
       "      <td>Recreio dos Bandeirantes</td>\n",
       "      <td>3</td>\n",
       "      <td>2</td>\n",
       "      <td>1</td>\n",
       "      <td>300</td>\n",
       "      <td>2500.0</td>\n",
       "      <td>1600.0</td>\n",
       "      <td>400.0</td>\n",
       "      <td>8.33</td>\n",
       "      <td>Apartamento</td>\n",
       "    </tr>\n",
       "  </tbody>\n",
       "</table>\n",
       "<p>10000 rows × 11 columns</p>\n",
       "</div>"
      ],
      "text/plain": [
       "             Tipo                    Bairro  Quartos  Vagas  Suites  Area  \\\n",
       "0     Apartamento  Recreio dos Bandeirantes        3      2       1   320   \n",
       "1     Apartamento                  Maracanã        2      0       0    59   \n",
       "2     Apartamento                    Leblon        3      2       1   147   \n",
       "3     Apartamento               São Conrado        3      3       3   270   \n",
       "4     Apartamento                    Tijuca        2      1       0    65   \n",
       "...           ...                       ...      ...    ...     ...   ...   \n",
       "9995  Apartamento                Copacabana        3      1       2   160   \n",
       "9996  Apartamento                Copacabana        4      0       0   190   \n",
       "9997  Apartamento           Barra da Tijuca        2      1       1    70   \n",
       "9998  Apartamento                    Tijuca        1      0       0    50   \n",
       "9999  Apartamento  Recreio dos Bandeirantes        3      2       1   300   \n",
       "\n",
       "        Valor  Condominio    IPTU  Valor m2 Tipo Agregado  \n",
       "0      3200.0      1319.0     0.0     10.00   Apartamento  \n",
       "1       800.0       725.0    47.0     13.56   Apartamento  \n",
       "2      7500.0      1000.0   381.0     51.02   Apartamento  \n",
       "3     14999.0      2800.0  1200.0     55.55   Apartamento  \n",
       "4      1200.0       640.0    97.0     18.46   Apartamento  \n",
       "...       ...         ...     ...       ...           ...  \n",
       "9995  15500.0      1600.0   435.0     96.88   Apartamento  \n",
       "9996   6000.0      1000.0     0.0     31.58   Apartamento  \n",
       "9997   2800.0       750.0   160.0     40.00   Apartamento  \n",
       "9998   1700.0       360.0    20.0     34.00   Apartamento  \n",
       "9999   2500.0      1600.0   400.0      8.33   Apartamento  \n",
       "\n",
       "[10000 rows x 11 columns]"
      ]
     },
     "execution_count": 27,
     "metadata": {},
     "output_type": "execute_result"
    }
   ],
   "source": [
    "df = pd.read_csv(\"dataset/aluguel_amostra.csv\", sep = \";\")\n",
    "df"
   ]
  },
  {
   "cell_type": "code",
   "execution_count": 28,
   "id": "8261ba46",
   "metadata": {},
   "outputs": [
    {
     "name": "stdout",
     "output_type": "stream",
     "text": [
      "21.25 42.31 -10.340000000000003 73.9\n"
     ]
    }
   ],
   "source": [
    "valorm2 = df['Valor m2']\n",
    "#Quantilies e limites\n",
    "Q1 = valorm2.quantile(.25)\n",
    "Q3 = valorm2.quantile(.75)\n",
    "IIQ = Q3 - Q1\n",
    "limite_inferior = Q1 - (1.5*IIQ)\n",
    "limite_superior = Q3 + (1.5*IIQ)\n",
    "print(Q1, Q3,limite_inferior, limite_superior )"
   ]
  },
  {
   "cell_type": "markdown",
   "id": "7840f4e8",
   "metadata": {},
   "source": [
    "## Identifying and removing outliers (continue...)"
   ]
  },
  {
   "cell_type": "code",
   "execution_count": 29,
   "id": "9b7cfcde",
   "metadata": {},
   "outputs": [
    {
     "data": {
      "text/plain": [
       "<AxesSubplot:title={'center':'Valor'}, xlabel='[Tipo]'>"
      ]
     },
     "execution_count": 29,
     "metadata": {},
     "output_type": "execute_result"
    },
    {
     "data": {
      "image/png": "[encoded data removed]",
      "text/plain": [
       "<Figure size 1008x432 with 1 Axes>"
      ]
     },
     "metadata": {
      "needs_background": "light"
     },
     "output_type": "display_data"
    }
   ],
   "source": [
    "data.boxplot(['Valor'], by = ['Tipo'])"
   ]
  },
  {
   "cell_type": "code",
   "execution_count": 34,
   "id": "2c399707",
   "metadata": {},
   "outputs": [
    {
     "data": {
      "text/plain": [
       "{'Apartamento': [2, 3, 4, 7, 8, 9, 11, 13, 14, 15, 17, 18, 19, 20, 21, 23, 24, 25, 26, 27, 29, 30, 31, 32, 33, 34, 35, 36, 37, 38, 39, 40, 41, 43, 44, 45, 46, 47, 48, 49, 50, 51, 52, 53, 55, 56, 59, 60, 61, 62, 63, 64, 65, 66, 67, 68, 69, 70, 72, 73, 74, 75, 76, 77, 79, 80, 82, 83, 84, 85, 87, 88, 89, 90, 91, 92, 93, 94, 95, 97, 98, 99, 102, 103, 104, 105, 106, 107, 108, 109, 110, 111, 112, 113, 114, 115, 116, 117, 118, 119, ...], 'Casa': [1, 22, 54, 57, 96, 100, 144, 160, 180, 238, 250, 253, 264, 286, 310, 316, 334, 339, 357, 378, 385, 399, 424, 434, 474, 475, 481, 511, 542, 543, 567, 571, 572, 618, 621, 630, 635, 636, 660, 676, 700, 721, 724, 760, 771, 780, 856, 873, 937, 982, 1029, 1036, 1118, 1123, 1125, 1157, 1178, 1249, 1256, 1316, 1335, 1350, 1371, 1412, 1426, 1430, 1440, 1445, 1472, 1475, 1488, 1586, 1604, 1656, 1662, 1666, 1671, 1684, 1709, 1717, 1762, 1810, 1835, 1875, 1905, 1933, 1942, 1960, 2019, 2039, 2056, 2075, 2101, 2107, 2108, 2133, 2170, 2201, 2204, 2211, ...], 'Casa de Condomínio': [5, 6, 12, 16, 42, 58, 166, 168, 183, 207, 222, 246, 259, 265, 279, 291, 308, 336, 391, 401, 440, 445, 449, 502, 556, 609, 622, 657, 663, 673, 707, 723, 781, 807, 809, 863, 883, 887, 934, 958, 961, 979, 986, 992, 1004, 1008, 1028, 1082, 1095, 1112, 1129, 1148, 1158, 1182, 1220, 1227, 1229, 1239, 1246, 1308, 1312, 1320, 1341, 1356, 1406, 1438, 1439, 1467, 1495, 1531, 1560, 1582, 1601, 1615, 1646, 1713, 1722, 1728, 1756, 1764, 1770, 1802, 1860, 1880, 1883, 1899, 1938, 2031, 2033, 2071, 2152, 2168, 2200, 2224, 2246, 2248, 2327, 2333, 2357, 2371, ...], 'Casa de Vila': [81, 212, 220, 303, 332, 697, 822, 844, 918, 1012, 1353, 1362, 1447, 1491, 1553, 1639, 1669, 1703, 1769, 2087, 2249, 2267, 2446, 2533, 2547, 2605, 2641, 2727, 2840, 2872, 2977, 2984, 3017, 3025, 3300, 3426, 3523, 3703, 3823, 3855, 3858, 3863, 4094, 4146, 4153, 4165, 4340, 4444, 4826, 5151, 5170, 5175, 5198, 5294, 5410, 5535, 5597, 5724, 5751, 5911, 5950, 5995, 6008, 6031, 6049, 6201, 6236, 6300, 6348, 6402, 6429, 6754, 6795, 6939, 6957, 7033, 7091, 7146, 7296, 7697, 7712, 7778, 7837, 7843, 7968, 8004, 8136, 8427, 8452, 8578, 9229, 9234, 9319, 9476, 9619, 9624, 9716, 9739, 9784, 9867, ...], 'Quitinete': [0, 10, 28, 71, 78, 86, 101, 120, 146, 174, 191, 206, 223, 248, 301, 314, 327, 344, 355, 425, 426, 427, 460, 486, 532, 633, 650, 680, 808, 870, 917, 919, 924, 928, 939, 944, 970, 1001, 1016, 1044, 1070, 1156, 1170, 1172, 1184, 1192, 1196, 1212, 1217, 1261, 1274, 1334, 1351, 1360, 1393, 1404, 1407, 1483, 1496, 1510, 1543, 1595, 1611, 1613, 1633, 1696, 1697, 1706, 1733, 1753, 1772, 1824, 1839, 1853, 1910, 2013, 2085, 2098, 2125, 2142, 2149, 2156, 2160, 2227, 2237, 2239, 2258, 2272, 2326, 2362, 2382, 2383, 2384, 2394, 2445, 2457, 2462, 2493, 2507, 2630, ...]}"
      ]
     },
     "execution_count": 34,
     "metadata": {},
     "output_type": "execute_result"
    }
   ],
   "source": [
    "grupo_tipo = data.groupby('Tipo')['Valor']\n",
    "\n",
    "grupo_tipo.groups"
   ]
  },
  {
   "cell_type": "code",
   "execution_count": 37,
   "id": "1aa4819d",
   "metadata": {},
   "outputs": [
    {
     "data": {
      "text/plain": [
       "Tipo\n",
       "Apartamento           1700.0\n",
       "Casa                  1100.0\n",
       "Casa de Condomínio    4000.0\n",
       "Casa de Vila           750.0\n",
       "Quitinete              900.0\n",
       "Name: Valor, dtype: float64"
      ]
     },
     "execution_count": 37,
     "metadata": {},
     "output_type": "execute_result"
    }
   ],
   "source": [
    "#Quantilies e limites\n",
    "Q1 = grupo_tipo.quantile(.25)\n",
    "Q3 = grupo_tipo.quantile(.75)\n",
    "IIQ = Q3 - Q1\n",
    "limite_inferior = Q1 - (1.5*IIQ)\n",
    "limite_superior = Q3 + (1.5*IIQ)\n",
    "Q1"
   ]
  },
  {
   "cell_type": "code",
   "execution_count": 38,
   "id": "d2c46bd8",
   "metadata": {},
   "outputs": [
    {
     "data": {
      "text/plain": [
       "9950.0"
      ]
     },
     "execution_count": 38,
     "metadata": {},
     "output_type": "execute_result"
    }
   ],
   "source": [
    "limite_superior['Apartamento']"
   ]
  },
  {
   "attachments": {
    "image.png": {
     "image/png": "[encoded data removed]"
    }
   },
   "cell_type": "markdown",
   "id": "4925b1ef",
   "metadata": {},
   "source": [
    "![image.png](attachment:image.png)"
   ]
  },
  {
   "cell_type": "code",
   "execution_count": 45,
   "id": "1f9c99e1",
   "metadata": {},
   "outputs": [
    {
     "data": {
      "text/plain": [
       "<AxesSubplot:title={'center':'Valor'}, xlabel='[Tipo]'>"
      ]
     },
     "execution_count": 45,
     "metadata": {},
     "output_type": "execute_result"
    },
    {
     "data": {
      "image/png": "[encoded data removed]",
      "text/plain": [
       "<Figure size 1008x432 with 1 Axes>"
      ]
     },
     "metadata": {
      "needs_background": "light"
     },
     "output_type": "display_data"
    }
   ],
   "source": [
    "data_new = pd.DataFrame()\n",
    "for tipo in grupo_tipo.groups.keys():\n",
    "    eh_tipo = data['Tipo'] == tipo\n",
    "    eh_dentro_limite = (data['Valor'] >= limite_inferior[tipo]) & (data['Valor'] <= limite_superior[tipo])\n",
    "    selecao = eh_tipo & eh_dentro_limite\n",
    "    data_selecao = data[selecao]\n",
    "    data_new = pd.concat([data_new, data_selecao])\n",
    "data_new.boxplot(['Valor'], by = ['Tipo'])"
   ]
  },
  {
   "cell_type": "code",
   "execution_count": 46,
   "id": "af9803c0",
   "metadata": {},
   "outputs": [],
   "source": [
    "data_new.to_csv('dataset/aluguel_residencial_sem_outliers.csv', sep = \";\", index = False)"
   ]
  },
  {
   "cell_type": "code",
   "execution_count": null,
   "id": "192e14f0",
   "metadata": {},
   "outputs": [],
   "source": []
  }
 ],
 "metadata": {
  "kernelspec": {
   "display_name": "Python 3",
   "language": "python",
   "name": "python3"
  },
  "language_info": {
   "codemirror_mode": {
    "name": "ipython",
    "version": 3
   },
   "file_extension": ".py",
   "mimetype": "text/x-python",
   "name": "python",
   "nbconvert_exporter": "python",
   "pygments_lexer": "ipython3",
   "version": "3.8.8"
  }
 },
 "nbformat": 4,
 "nbformat_minor": 5
}
